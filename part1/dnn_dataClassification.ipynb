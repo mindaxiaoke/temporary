{
 "cells": [
  {
   "cell_type": "code",
   "execution_count": 1,
   "metadata": {
    "collapsed": false
   },
   "outputs": [
    {
     "name": "stderr",
     "output_type": "stream",
     "text": [
      "DEBUG: nvcc STDOUT mod.cu\r\n",
      "   Creating library C:/Users/myang/AppData/Local/Theano/compiledir_Windows-7-6.1.7601-SP1-Intel64_Family_6_Model_63_Stepping_2_GenuineIntel-2.7.11-64/tmptyttxk/265abc51f7c376c224983485238ff1a5.lib and object C:/Users/myang/AppData/Local/Theano/compiledir_Windows-7-6.1.7601-SP1-Intel64_Family_6_Model_63_Stepping_2_GenuineIntel-2.7.11-64/tmptyttxk/265abc51f7c376c224983485238ff1a5.exp\r\n",
      "\n",
      "Using gpu device 0: NVS 510 (CNMeM is enabled with initial size: 95.0% of memory, cuDNN 5004)\n"
     ]
    },
    {
     "name": "stdout",
     "output_type": "stream",
     "text": [
      "start\n",
      "Training batches: 200\n",
      "... building the model\n",
      "('layer0', 'SVD Decompostion done.')\n",
      "('layer0', 'var = 1.72299055054e-05', 'mean = 5.69010046569e-05')\n",
      "('layer0', 'var = 0.353784872924', 'mean = -0.0274058637526')\n",
      "('layer0', 'var = 0.559840862189', 'mean = 0.0754027502024')\n",
      "('layer0', 'var = 0.585053839695', 'mean = -0.0305085466689')\n",
      "('layer0', 'var = 0.662529545328', 'mean = 0.0262818922909')\n",
      "('layer0', 'var = 0.870695397787', 'mean = -0.0559575492502')\n",
      "('layer0', 'var = 0.894608491687', 'mean = -0.0485774085144')\n",
      "('layer0', 'var = 0.762555610927', 'mean = 0.0749028218596')\n",
      "('layer0', 'var = 0.826724909168', 'mean = 0.0487854140515')\n",
      "('layer0', 'var = 0.872517024028', 'mean = 0.0401771430513')\n",
      "('layer0', 'var = 0.771985262425', 'mean = -0.0941180481355')\n",
      "('layer0', 'var = 0.839864141291', 'mean = 0.0484461364446')\n",
      "('layer0', 'var = 0.855440110484', 'mean = -0.179691752088')\n",
      "('layer0', 'var = 0.889419077163', 'mean = 0.0905078957938')\n",
      "('layer0', 'var = 0.805877961573', 'mean = 0.0337059652546')\n",
      "('layer0', 'var = 0.866054301736', 'mean = 0.00419587726669')\n",
      "('layer0', 'var = 0.892395214208', 'mean = 0.139078839367')\n",
      "('layer0', 'var = 0.915211945739', 'mean = -0.0552515535225')\n",
      "('layer0', 'var = 0.83620709436', 'mean = -0.332293731648')\n",
      "('layer0', 'var = 0.950867234138', 'mean = 0.0222326137579')\n",
      "... training\n",
      "epoch 1, minibatch 200/200, validation error 59.375000 %\n",
      "     epoch 1, minibatch 200/200, test error of best model 61.718750 %\n",
      "epoch 2, minibatch 200/200, validation error 59.375000 %\n",
      "epoch 3, minibatch 200/200, validation error 59.375000 %\n",
      "epoch 4, minibatch 200/200, validation error 59.375000 %\n",
      "epoch 5, minibatch 200/200, validation error 59.375000 %\n",
      "epoch 6, minibatch 200/200, validation error 59.375000 %\n",
      "epoch 7, minibatch 200/200, validation error 59.375000 %\n",
      "epoch 8, minibatch 200/200, validation error 59.375000 %\n",
      "epoch 9, minibatch 200/200, validation error 59.375000 %\n",
      "epoch 10, minibatch 200/200, validation error 59.375000 %\n",
      "... optimization complete.\n",
      "... best validation score of 59.375000 % obtained at iteration 200.\n",
      "... test performance 61.718750 %\n"
     ]
    }
   ],
   "source": [
    "# Using Train_X1 with classification labels:\n",
    "#   signal(1:10) to predict spy(11)\n",
    "%run dnn_DataClassification\n",
    "\n",
    "# Results:\n",
    "#learning_rate=0.1, L1_reg=0.00, L2_reg=0.000001, n_epochs=30,\n",
    "#             batch_size=2, n_hidden=20, n_hiddenLayers=1, verbose=True\n",
    "# Accuracy: 67.19% on test set  (58.00% on training, 63.28% on validation set)\n",
    "# Correlation in test set: 0.2601"
   ]
  },
  {
   "cell_type": "code",
   "execution_count": 1,
   "metadata": {
    "collapsed": false
   },
   "outputs": [
    {
     "name": "stderr",
     "output_type": "stream",
     "text": [
      "DEBUG: nvcc STDOUT mod.cu\r\n",
      "   Creating library C:/Users/myang/AppData/Local/Theano/compiledir_Windows-7-6.1.7601-SP1-Intel64_Family_6_Model_63_Stepping_2_GenuineIntel-2.7.11-64/tmphylhz5/265abc51f7c376c224983485238ff1a5.lib and object C:/Users/myang/AppData/Local/Theano/compiledir_Windows-7-6.1.7601-SP1-Intel64_Family_6_Model_63_Stepping_2_GenuineIntel-2.7.11-64/tmphylhz5/265abc51f7c376c224983485238ff1a5.exp\r\n",
      "\n",
      "Using gpu device 0: NVS 510 (CNMeM is enabled with initial size: 95.0% of memory, cuDNN 5004)\n"
     ]
    },
    {
     "name": "stdout",
     "output_type": "stream",
     "text": [
      "start\n",
      "Training batches: 200\n",
      "... building the model\n",
      "('layer0', 'SVD Decompostion done.')\n",
      "('layer0', 'var = 3.08212652514e-05', 'mean = 0.000645931823206')\n",
      "('layer0', 'var = 0.342739465264', 'mean = -0.206366417915')\n",
      "('layer0', 'var = 0.553477276571', 'mean = 0.163112921649')\n",
      "('layer0', 'var = 0.668491144339', 'mean = -0.120244187745')\n",
      "('layer0', 'var = 0.537137909113', 'mean = -0.336499435703')\n",
      "('layer0', 'var = 0.852547899083', 'mean = -0.0593532477258')\n",
      "('layer0', 'var = 0.882833528052', 'mean = -0.0339703971204')\n",
      "('layer0', 'var = 0.853528015746', 'mean = 0.014087532162')\n",
      "('layer0', 'var = 0.861254703697', 'mean = -0.0580248431141')\n",
      "('layer0', 'var = 0.881975180162', 'mean = -0.0420586639864')\n",
      "('layer0', 'var = 0.776436733526', 'mean = -0.201344043593')\n",
      "('layer0', 'var = 0.836763645205', 'mean = -0.0411496345728')\n",
      "('layer0', 'var = 0.897745651077', 'mean = -0.10849673426')\n",
      "('layer0', 'var = 0.951187905378', 'mean = 0.136439303804')\n",
      "... training\n",
      "epoch 1, minibatch 200/200, validation error 59.375000 %\n",
      "     epoch 1, minibatch 200/200, test error of best model 61.718750 %\n",
      "epoch 2, minibatch 200/200, validation error 59.375000 %\n",
      "epoch 3, minibatch 200/200, validation error 59.375000 %\n",
      "epoch 4, minibatch 200/200, validation error 59.375000 %\n",
      "epoch 5, minibatch 200/200, validation error 59.375000 %\n",
      "epoch 6, minibatch 200/200, validation error 59.375000 %\n",
      "epoch 7, minibatch 200/200, validation error 59.375000 %\n",
      "epoch 8, minibatch 200/200, validation error 59.375000 %\n",
      "epoch 9, minibatch 200/200, validation error 59.375000 %\n",
      "epoch 10, minibatch 200/200, validation error 59.375000 %\n",
      "... optimization complete.\n",
      "... best validation score of 59.375000 % obtained at iteration 200.\n",
      "... test performance 61.718750 %\n"
     ]
    }
   ],
   "source": [
    "# Using Train_X3 with classification labels:\n",
    "#   signal(1:10) and spy(1:10) to predict spy(11)\n",
    "%run dnn_DataClassification\n",
    "\n",
    "# Results:\n",
    "#learning_rate=0.1, L1_reg=0.00, L2_reg=0.000001, n_epochs=30,\n",
    "#             batch_size=2, n_hidden=20, n_hiddenLayers=1, verbose=True\n",
    "# Accuracy: 64.06% on test set  (57.75% on training, 63.28% on validation set)\n",
    "# Correlation in test set: 0.2601"
   ]
  }
 ],
 "metadata": {
  "kernelspec": {
   "display_name": "Python 2",
   "language": "python",
   "name": "python2"
  },
  "language_info": {
   "codemirror_mode": {
    "name": "ipython",
    "version": 2
   },
   "file_extension": ".py",
   "mimetype": "text/x-python",
   "name": "python",
   "nbconvert_exporter": "python",
   "pygments_lexer": "ipython2",
   "version": "2.7.10"
  }
 },
 "nbformat": 4,
 "nbformat_minor": 0
}
